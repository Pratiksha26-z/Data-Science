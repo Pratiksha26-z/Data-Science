{
 "cells": [
  {
   "cell_type": "markdown",
   "id": "164fdce8",
   "metadata": {},
   "source": [
    "1. In the below elements which of them are values or an expression? eg:- values can be\n",
    "integer or string and expressions will be mathematical operators.\n",
    "*\n",
    "'hello'\n",
    "-87.8\n",
    "-\n",
    "/\n",
    "+\n",
    "6\n",
    "\n",
    "\n",
    "Ans:\n",
    "\n",
    "*       ---------------- Expression\n",
    "'hello' ---------------- Value\n",
    "-87.8   ---------------- Value\n",
    "-       ---------------- Expression\n",
    "/       ---------------- Expression\n",
    "+       ---------------- Exression\n",
    "6       ---------------- Value"
   ]
  },
  {
   "cell_type": "markdown",
   "id": "e6e09eb4",
   "metadata": {},
   "source": [
    "2. What is the difference between string and variable?\n",
    "\n",
    "Ans:\n",
    "\n",
    "String :\n",
    "    1. A string is a collection of one or more characters put in a single quote, double-quote or triple quote\n",
    "    for Ex. 'hello', 'hellw123%7'\n",
    "    2. String(str) is a data type which is used to perform different different operations on dataset.\n",
    "    \n",
    "Variable :\n",
    "    1.Variable is a name given to a memory loacation , in which we can store the Values.\n",
    "    2.All operation done on variable it affects the memory loactions.\n",
    "    3.There are different rules for creating variable\n",
    "        1.Variable name must start with letter or underscore character.\n",
    "        2.Variable name cannot start with number\n",
    "        3.Variable name can only contains alpha numeric characters, underscore, (A-z,0-9,_)\n",
    "        4.Variable names are case sensitive\n",
    "        5.we cannot use reserved words(Keywords) as variable name.\n",
    "        "
   ]
  },
  {
   "cell_type": "markdown",
   "id": "5d5a8512",
   "metadata": {},
   "source": [
    "3. Describe three different data types.\n",
    "\n",
    "Ans\n",
    "\n",
    "1.String(str): A string is a collection of one or more characters put in a single quote, double-quote or triple quote. \n",
    "  In python there is no character data type, a character is a string of length one. It is represented by str class.\n",
    "  \n",
    "2.Integers(int): It contains positive or negative whole numbers (without fraction or decimal). In Python there is no limit to     how long an integer value can be.\n",
    "\n",
    "3.Complex Numbers(complex) – It is specified as (real part) + (imaginary part)j. For example – 2+3j\n"
   ]
  },
  {
   "cell_type": "markdown",
   "id": "df02208f",
   "metadata": {},
   "source": [
    "4. What is an expression made up of? What do all expressions do?\n",
    "\n",
    "Ans\n",
    "\n",
    "Expression is the combination of operator and operands. The expression in Python produces some value or result after being interpreted by the Python interpreter.\n",
    "\n",
    "EX.\n",
    "\n",
    "x = 25          \n",
    "x = x + 10      \n",
    "\n",
    "print(x)\n",
    "\n",
    "An example of expression can be : \n",
    "\n",
    "x=x+10. In this expression, the first 10 is added to the variable x. After the addition is performed, \n",
    "the result is assigned to the variable x.\n"
   ]
  },
  {
   "cell_type": "markdown",
   "id": "505bee0a",
   "metadata": {},
   "source": [
    "5. This assignment statements, like spam = 10. What is the difference between an\n",
    "expression and a statement?\n",
    "\n",
    "Ans\n",
    "\n",
    "Statements : statement is used for creating the variables or displaing the values.\n",
    "\n",
    "Expression : Expression is the combination of operator and operands. The expression in Python produces some value or result after being interpreted by the Python interpreter.\n"
   ]
  },
  {
   "cell_type": "code",
   "execution_count": 1,
   "id": "1c9971d6",
   "metadata": {},
   "outputs": [
    {
     "data": {
      "text/plain": [
       "22"
      ]
     },
     "execution_count": 1,
     "metadata": {},
     "output_type": "execute_result"
    }
   ],
   "source": [
    "#6. After running the following code, what does the variable bacon contain?\n",
    "\n",
    "#Ans : bacon contains 22\n",
    "\n",
    "bacon = 22\n",
    "bacon + 1\n",
    "bacon"
   ]
  },
  {
   "cell_type": "markdown",
   "id": "bb35f484",
   "metadata": {},
   "source": [
    "7. What should the values of the following two terms be?\n",
    "'spam'+ 'spamspam'\n",
    "'spam'* 3\n",
    "\n",
    "Ans:\n",
    "\n",
    "'spam'+ 'spamspam' ='spamspamspam'\n",
    "'spam'* 3          ='spamspamspam'"
   ]
  },
  {
   "cell_type": "code",
   "execution_count": 2,
   "id": "6223fa11",
   "metadata": {},
   "outputs": [
    {
     "data": {
      "text/plain": [
       "'spamspamspam'"
      ]
     },
     "execution_count": 2,
     "metadata": {},
     "output_type": "execute_result"
    }
   ],
   "source": [
    "'spam'+ 'spamspam'"
   ]
  },
  {
   "cell_type": "code",
   "execution_count": 3,
   "id": "9943de5a",
   "metadata": {},
   "outputs": [
    {
     "data": {
      "text/plain": [
       "'spamspamspam'"
      ]
     },
     "execution_count": 3,
     "metadata": {},
     "output_type": "execute_result"
    }
   ],
   "source": [
    "'spam'* 3 "
   ]
  },
  {
   "cell_type": "markdown",
   "id": "155e1cb0",
   "metadata": {},
   "source": [
    "8. Why is eggs a valid variable name while 100 is invalid?\n",
    "\n",
    "Ans:\n",
    "eggs a valid variable name while 100 is invalid due to there are certain rule for creating variables.\n",
    "\n",
    "1.Variable name must start with letter or underscore character.\n",
    "2.Variable name cannot start with number\n"
   ]
  },
  {
   "cell_type": "markdown",
   "id": "a5471d1d",
   "metadata": {},
   "source": [
    "9. What three functions can be used to get the integer, floating-point number, or string\n",
    "version of a value?\n",
    "\n",
    "Ans:\n",
    "\n",
    "The int() , float() , and str( ) functions will evaluate to the integer, floating-point number, and string versions \n",
    "of the value passed to them."
   ]
  },
  {
   "cell_type": "markdown",
   "id": "b3efcf5e",
   "metadata": {},
   "source": [
    "10. Why does this expression cause an error? How can you fix it?\n",
    "'I have eaten ' + 99 + ' burritos.'\n",
    "\n",
    "Ans:\n",
    "\n",
    "we cannot concatenate string(str) with integer(int) value. for concatenation data type of all values must be same.\n",
    "For fixing above expression we have to convert integer 99 to string '99'\n",
    "\n",
    "Input :'I have eaten ' + '99' + ' burritos.'\n",
    "\n",
    "output :'I have eaten 99 burritos.'\n"
   ]
  },
  {
   "cell_type": "code",
   "execution_count": 8,
   "id": "305a71f7",
   "metadata": {},
   "outputs": [
    {
     "data": {
      "text/plain": [
       "'I have eaten 99 burritos.'"
      ]
     },
     "execution_count": 8,
     "metadata": {},
     "output_type": "execute_result"
    }
   ],
   "source": [
    "'I have eaten ' + '99' + ' burritos.'"
   ]
  }
 ],
 "metadata": {
  "kernelspec": {
   "display_name": "Python 3 (ipykernel)",
   "language": "python",
   "name": "python3"
  },
  "language_info": {
   "codemirror_mode": {
    "name": "ipython",
    "version": 3
   },
   "file_extension": ".py",
   "mimetype": "text/x-python",
   "name": "python",
   "nbconvert_exporter": "python",
   "pygments_lexer": "ipython3",
   "version": "3.9.13"
  }
 },
 "nbformat": 4,
 "nbformat_minor": 5
}
