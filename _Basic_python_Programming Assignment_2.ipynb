{
 "cells": [
  {
   "cell_type": "markdown",
   "id": "35eeca93",
   "metadata": {},
   "source": [
    "1. Write a Python program to convert kilometers to miles?"
   ]
  },
  {
   "cell_type": "code",
   "execution_count": 2,
   "id": "a4fd3e99",
   "metadata": {},
   "outputs": [
    {
     "name": "stdout",
     "output_type": "stream",
     "text": [
      "enter the distance in Km : 1\n",
      "1  Km is equal to  0.62137  miles\n"
     ]
    }
   ],
   "source": [
    "distance= int(input(\"enter the distance in Km : \"))\n",
    "\n",
    "miles =0.62137*distance\n",
    "print(distance, \" Km is equal to \",miles ,\" miles\")"
   ]
  },
  {
   "cell_type": "markdown",
   "id": "9094f7be",
   "metadata": {},
   "source": [
    "2. Write a Python program to convert Celsius to Fahrenheit?"
   ]
  },
  {
   "cell_type": "code",
   "execution_count": 3,
   "id": "ee7ae4ae",
   "metadata": {},
   "outputs": [
    {
     "name": "stdout",
     "output_type": "stream",
     "text": [
      "Enter the temprature in ceisius : 0\n",
      "0  celsius is equal to  32.0  Fahrenheit\n"
     ]
    }
   ],
   "source": [
    "temp= int(input(\"Enter the temprature in ceisius : \"))\n",
    "Fehr= ((temp*9)/5) +32\n",
    "\n",
    "print(temp, \" celsius is equal to \",Fehr ,\" Fahrenheit\")"
   ]
  },
  {
   "cell_type": "markdown",
   "id": "deb01dab",
   "metadata": {},
   "source": [
    "3. Write a Python program to display calendar?"
   ]
  },
  {
   "cell_type": "code",
   "execution_count": 8,
   "id": "1e984ff2",
   "metadata": {},
   "outputs": [
    {
     "name": "stdout",
     "output_type": "stream",
     "text": [
      "Enter the year : 2023\n",
      "Enter the month : 2\n",
      "   February 2023\n",
      "Mo Tu We Th Fr Sa Su\n",
      "       1  2  3  4  5\n",
      " 6  7  8  9 10 11 12\n",
      "13 14 15 16 17 18 19\n",
      "20 21 22 23 24 25 26\n",
      "27 28\n",
      "\n"
     ]
    }
   ],
   "source": [
    "import calendar\n",
    "\n",
    "year= int(input(\"Enter the year : \"))\n",
    "month= int(input(\"Enter the month : \"))\n",
    "\n",
    "print(calendar.month(year, month))"
   ]
  },
  {
   "cell_type": "code",
   "execution_count": 16,
   "id": "0ce23931",
   "metadata": {},
   "outputs": [
    {
     "name": "stdout",
     "output_type": "stream",
     "text": [
      "a : 1\n",
      "b : 5\n",
      "c : 6\n",
      "solutions of 1x**2+5x+6 =  (-3+0j) (-2+0j)\n"
     ]
    }
   ],
   "source": [
    "#Quadratic equation ax**2+bx+c\n",
    "import cmath\n",
    "a= int(input(\"a : \"))\n",
    "b=int(input(\"b : \"))\n",
    "c=int(input(\"c : \"))\n",
    "\n",
    "d=(b**2)-(4*a*c)\n",
    "\n",
    "sol1= (-b-cmath.sqrt(d))/(2*a)\n",
    "\n",
    "sol2=(-b+cmath.sqrt(d))/(2*a)\n",
    "\n",
    "print(f\"solutions of {a}x**2+{b}x+{c} = \" ,sol1,sol2)"
   ]
  },
  {
   "cell_type": "markdown",
   "id": "c8bf5bdb",
   "metadata": {},
   "source": [
    "5. Write a Python program to swap two variables without temp variable?"
   ]
  },
  {
   "cell_type": "code",
   "execution_count": 17,
   "id": "71146b3c",
   "metadata": {},
   "outputs": [
    {
     "name": "stdout",
     "output_type": "stream",
     "text": [
      "a : 20\n",
      "b : 10\n"
     ]
    }
   ],
   "source": [
    "a=10\n",
    "b=20\n",
    "\n",
    "a=a+b\n",
    "b=a-b\n",
    "a=a-b\n",
    "\n",
    "print(\"a :\",a)\n",
    "print(\"b :\",b)"
   ]
  },
  {
   "cell_type": "code",
   "execution_count": null,
   "id": "98c1ff54",
   "metadata": {},
   "outputs": [],
   "source": []
  }
 ],
 "metadata": {
  "kernelspec": {
   "display_name": "Python 3 (ipykernel)",
   "language": "python",
   "name": "python3"
  },
  "language_info": {
   "codemirror_mode": {
    "name": "ipython",
    "version": 3
   },
   "file_extension": ".py",
   "mimetype": "text/x-python",
   "name": "python",
   "nbconvert_exporter": "python",
   "pygments_lexer": "ipython3",
   "version": "3.9.12"
  }
 },
 "nbformat": 4,
 "nbformat_minor": 5
}
