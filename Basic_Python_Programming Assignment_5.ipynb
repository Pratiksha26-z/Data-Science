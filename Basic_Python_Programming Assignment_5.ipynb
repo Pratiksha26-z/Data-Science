{
 "cells": [
  {
   "cell_type": "markdown",
   "id": "601da43f",
   "metadata": {},
   "source": [
    "\n",
    "1. Write a Python Program to Find HCF?"
   ]
  },
  {
   "cell_type": "code",
   "execution_count": 23,
   "id": "78712e9a",
   "metadata": {},
   "outputs": [
    {
     "name": "stdout",
     "output_type": "stream",
     "text": [
      "Enter x : 45\n",
      "Enter y : 54\n",
      "HCF of 45, 54 : 9\n"
     ]
    }
   ],
   "source": [
    "def HCF(x,y):\n",
    "    while(y):\n",
    "        x,y=y,x%y\n",
    "    return x\n",
    "\n",
    "x= int(input(\"Enter x : \"))\n",
    "y=int(input(\"Enter y : \"))\n",
    "print(f\"HCF of {x}, {y} :\",HCF(x,y))\n"
   ]
  },
  {
   "cell_type": "markdown",
   "id": "838bd4fb",
   "metadata": {},
   "source": [
    "2. Write a Python Program to Find LCM?"
   ]
  },
  {
   "cell_type": "code",
   "execution_count": 26,
   "id": "3093f058",
   "metadata": {},
   "outputs": [
    {
     "name": "stdout",
     "output_type": "stream",
     "text": [
      "Enter x : 8\n",
      "Enter y : 6\n",
      "LCM of 8, 6 : 24\n"
     ]
    }
   ],
   "source": [
    "def LCM(x,y):\n",
    "    return (x*y)//HCF(x,y)\n",
    "\n",
    "\n",
    "x= int(input(\"Enter x : \"))\n",
    "y=int(input(\"Enter y : \"))\n",
    "print(f\"LCM of {x}, {y} :\",LCM(x,y))"
   ]
  },
  {
   "cell_type": "markdown",
   "id": "c17fd54e",
   "metadata": {},
   "source": [
    "3. Write a Python Program to Convert Decimal to Binary, Octal and Hexadecimal?"
   ]
  },
  {
   "cell_type": "code",
   "execution_count": 31,
   "id": "64e10ce8",
   "metadata": {},
   "outputs": [],
   "source": [
    "def dec_bin(n):\n",
    "    binary=0\n",
    "    i=0\n",
    "    while(n):\n",
    "        rem=n%2\n",
    "        binary +=rem*10**i\n",
    "        n=n//2\n",
    "        i+=1\n",
    "    return binary\n",
    "        \n",
    "    "
   ]
  },
  {
   "cell_type": "code",
   "execution_count": 37,
   "id": "5a8537f3",
   "metadata": {},
   "outputs": [
    {
     "name": "stdout",
     "output_type": "stream",
     "text": [
      "Enter the decimal number : 344\n",
      "101011000\n"
     ]
    }
   ],
   "source": [
    "n= int(input(\"Enter the decimal number : \"))\n",
    "print(dec_bin(n))"
   ]
  },
  {
   "cell_type": "code",
   "execution_count": 41,
   "id": "f6439d3a",
   "metadata": {},
   "outputs": [],
   "source": [
    "def dec_oct(n):\n",
    "    octal=0\n",
    "    i=0\n",
    "    while(n):\n",
    "        rem= n%8\n",
    "        octal +=rem*10**i\n",
    "        n=n//8\n",
    "        i+=1\n",
    "    return octal"
   ]
  },
  {
   "cell_type": "code",
   "execution_count": 42,
   "id": "757daee7",
   "metadata": {},
   "outputs": [
    {
     "name": "stdout",
     "output_type": "stream",
     "text": [
      "Enter the decimal number : 344\n",
      "530\n"
     ]
    }
   ],
   "source": [
    "n= int(input(\"Enter the decimal number : \"))\n",
    "print(dec_oct(n))"
   ]
  },
  {
   "cell_type": "code",
   "execution_count": 51,
   "id": "dc0308cf",
   "metadata": {},
   "outputs": [],
   "source": [
    "def dec_hex(n):\n",
    "    table_conversion={0:'0',1:'1',2:'2',3:'3',4:'4',5:'5',6:'6',7:'7',\n",
    "                      8:'8',9:'9',10:'A',11:'B',12:'C',13:'D',14:'E',15:'F'}\n",
    "    \n",
    "    hexa=''\n",
    "    while(n):\n",
    "        rem= n%16\n",
    "        hexa=table_conversion[rem]+hexa\n",
    "        n=n//16\n",
    "    return hexa"
   ]
  },
  {
   "cell_type": "code",
   "execution_count": 53,
   "id": "6b160e12",
   "metadata": {},
   "outputs": [
    {
     "name": "stdout",
     "output_type": "stream",
     "text": [
      "Enter the decimal number : 2545\n",
      "9F1\n"
     ]
    }
   ],
   "source": [
    "n= int(input(\"Enter the decimal number : \"))\n",
    "print(dec_hex(n))"
   ]
  },
  {
   "cell_type": "markdown",
   "id": "32b7d706",
   "metadata": {},
   "source": [
    "4. Write a Python Program To Find ASCII value of a character?"
   ]
  },
  {
   "cell_type": "code",
   "execution_count": 54,
   "id": "43036163",
   "metadata": {},
   "outputs": [
    {
     "name": "stdout",
     "output_type": "stream",
     "text": [
      "enter the character : g\n",
      "ASCII value of g is :  103\n"
     ]
    }
   ],
   "source": [
    "c=input(\"enter the character : \")\n",
    "print(\"ASCII value of \"+c+\" is : \", ord(c))"
   ]
  },
  {
   "cell_type": "markdown",
   "id": "e2e39160",
   "metadata": {},
   "source": [
    "5. Write a Python Program to Make a Simple Calculator with 4 basic mathematical operations?"
   ]
  },
  {
   "cell_type": "code",
   "execution_count": 78,
   "id": "d820a6b4",
   "metadata": {},
   "outputs": [],
   "source": [
    "class simpleCalculator:\n",
    "    def __init__(self, a,b):\n",
    "        self.a=a\n",
    "        self.b=b\n",
    "    def check_type(self):\n",
    "        if (type(self.a)==int or type(self.a)==float) and (type(self.b)==int or type(self.b)==float) :\n",
    "            return 1\n",
    "        else:\n",
    "            print(\"Enter the proper values\")\n",
    "            return 0\n",
    "    def Add(self):\n",
    "        if self.check_type():\n",
    "            return self.a+self.b\n",
    "    def Sub(self):\n",
    "        if self.check_type():\n",
    "            return self.a-self.b\n",
    "    def Mul(self):\n",
    "        if self.check_type():\n",
    "            return self.a*self.b\n",
    "    def Div(self):\n",
    "        try:\n",
    "            if self.check_type():\n",
    "                return self.a/self.b\n",
    "        except Exception as e:\n",
    "            return e\n",
    "        "
   ]
  },
  {
   "cell_type": "code",
   "execution_count": 90,
   "id": "d005f911",
   "metadata": {},
   "outputs": [],
   "source": [
    "p=simpleCalculator(68,23)"
   ]
  },
  {
   "cell_type": "code",
   "execution_count": 91,
   "id": "c4a731ae",
   "metadata": {},
   "outputs": [
    {
     "data": {
      "text/plain": [
       "91"
      ]
     },
     "execution_count": 91,
     "metadata": {},
     "output_type": "execute_result"
    }
   ],
   "source": [
    "p.Add()"
   ]
  },
  {
   "cell_type": "code",
   "execution_count": 92,
   "id": "19d97591",
   "metadata": {},
   "outputs": [
    {
     "data": {
      "text/plain": [
       "45"
      ]
     },
     "execution_count": 92,
     "metadata": {},
     "output_type": "execute_result"
    }
   ],
   "source": [
    "p.Sub()"
   ]
  },
  {
   "cell_type": "code",
   "execution_count": 93,
   "id": "3ac2d337",
   "metadata": {},
   "outputs": [
    {
     "data": {
      "text/plain": [
       "1564"
      ]
     },
     "execution_count": 93,
     "metadata": {},
     "output_type": "execute_result"
    }
   ],
   "source": [
    "p.Mul()"
   ]
  },
  {
   "cell_type": "code",
   "execution_count": 94,
   "id": "4e8cb46d",
   "metadata": {},
   "outputs": [
    {
     "data": {
      "text/plain": [
       "2.9565217391304346"
      ]
     },
     "execution_count": 94,
     "metadata": {},
     "output_type": "execute_result"
    }
   ],
   "source": [
    "p.Div()"
   ]
  },
  {
   "cell_type": "code",
   "execution_count": null,
   "id": "2c54e500",
   "metadata": {},
   "outputs": [],
   "source": []
  }
 ],
 "metadata": {
  "kernelspec": {
   "display_name": "Python 3 (ipykernel)",
   "language": "python",
   "name": "python3"
  },
  "language_info": {
   "codemirror_mode": {
    "name": "ipython",
    "version": 3
   },
   "file_extension": ".py",
   "mimetype": "text/x-python",
   "name": "python",
   "nbconvert_exporter": "python",
   "pygments_lexer": "ipython3",
   "version": "3.9.12"
  }
 },
 "nbformat": 4,
 "nbformat_minor": 5
}
