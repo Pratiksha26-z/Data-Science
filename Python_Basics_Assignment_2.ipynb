{
 "cells": [
  {
   "cell_type": "raw",
   "id": "f420b00a",
   "metadata": {},
   "source": [
    "1.What are the two values of the Boolean data type? How do you write them?\n",
    "\n",
    "Ans:\n",
    " The Boolean(bool) data type contains two values that is True and False. we will write them as True and False. and these values are case sensitive.\n",
    "    "
   ]
  },
  {
   "cell_type": "raw",
   "id": "c836629a",
   "metadata": {},
   "source": [
    "2. What are the three different types of Boolean operators?\n",
    "\n",
    "Ans: and, or ,not"
   ]
  },
  {
   "cell_type": "raw",
   "id": "a83b0194",
   "metadata": {},
   "source": [
    "3.Make a list of each Boolean operator's truth tables (i.e. every possible combination of Boolean\n",
    "values for the operator and what it evaluate ).\n",
    "\n",
    "\n",
    "Ans \n",
    "\n",
    "if A=True , B=True  A and B = True\n",
    "if A=False , B=True  A and B = False\n",
    "if A=True , B=False  A and B = False\n",
    "if A=False , B=False  A and B = False\n",
    "\n",
    "if A=True , B=True   A or B = True\n",
    "if A=False , B=True  A or B = True\n",
    "if A=True , B=False  A or B = True\n",
    "if A=False , B=False  A or B = False\n",
    "\n",
    "if A=True not A= False\n",
    "if A=False not A=True\n"
   ]
  },
  {
   "cell_type": "raw",
   "id": "80dd31cc",
   "metadata": {},
   "source": [
    "4. What are the values of the following expressions?\n",
    "(5 &gt; 4) and (3 == 5)\n",
    "not (5 &gt; 4)\n",
    "(5 &gt; 4) or (3 == 5)\n",
    "not ((5 &gt; 4) or (3 == 5))\n",
    "(True and True) and (True == False)\n",
    "(not False) or (not True)\n",
    "\n",
    "Ans:\n",
    "\n",
    "(5 > 4) and (3 == 5)                                    = False\n",
    "not (5 > 4)                                             = False\n",
    "(5 > 4) or (3 == 5)                                     = True\n",
    "not ((5 > 4) or (3 == 5))                               = False\n",
    "(True and True) and (True == False)                     = False\n",
    "(not False) or (not True)                               = True\n"
   ]
  },
  {
   "cell_type": "raw",
   "id": "12ce89d7",
   "metadata": {},
   "source": [
    "5. What are the six comparison operators?\n",
    "\n",
    "Ans :\n",
    "1. >\n",
    "2. >=\n",
    "3. <\n",
    "4. <=\n",
    "5. ==\n",
    "6. !="
   ]
  },
  {
   "cell_type": "raw",
   "id": "2191875b",
   "metadata": {},
   "source": [
    "6. How do you tell the difference between the equal to and assignment operators?Describe a\n",
    "condition and when you would use one.\n",
    "\n",
    "Ans:\n",
    "Assignment operator(=) is used to assign the value to the variable or expression.\n",
    "\n",
    "Equal to operatoe(==) it is a relation operator, is used to compare left side operands to right side operands.\n"
   ]
  },
  {
   "cell_type": "raw",
   "id": "89c3e2c5",
   "metadata": {},
   "source": [
    "7. Identify the three blocks in this code:\n",
    "spam = 0\n",
    "if spam == 10:\n",
    "print('eggs')\n",
    "if spam >5:\n",
    "print('bacon')\n",
    "else:\n",
    "print('ham')\n",
    "print('spam')\n",
    "print('spam')"
   ]
  },
  {
   "cell_type": "code",
   "execution_count": 13,
   "id": "940c197c",
   "metadata": {},
   "outputs": [
    {
     "name": "stdout",
     "output_type": "stream",
     "text": [
      "ham\n",
      "spam\n",
      "spam\n"
     ]
    }
   ],
   "source": [
    "spam = 0\n",
    "if spam == 10:\n",
    "    print('eggs')\n",
    "if spam >5:\n",
    "    print('bacon')\n",
    "else:\n",
    "    print('ham')\n",
    "    print('spam')\n",
    "    print('spam')"
   ]
  },
  {
   "cell_type": "code",
   "execution_count": 15,
   "id": "14acf70b",
   "metadata": {},
   "outputs": [
    {
     "name": "stdout",
     "output_type": "stream",
     "text": [
      "Howdy\n"
     ]
    }
   ],
   "source": [
    "'''8. Write code that prints Hello if 1 is stored in spam, prints Howdy if 2 is stored in spam, \n",
    "and prints Greetings! if anything else is stored in spam.'''\n",
    "\n",
    "spam = 2\n",
    "\n",
    "if spam == 1:\n",
    "    print('Hello')\n",
    "elif spam == 2:\n",
    "    print('Howdy')\n",
    "else:\n",
    "    print('Greeting')\n",
    "\n"
   ]
  },
  {
   "cell_type": "raw",
   "id": "2609f732",
   "metadata": {},
   "source": [
    "9.If your programme is stuck in an endless loop, what keys you’ll press?\n",
    "Ans:\n",
    "CTRL + C\n"
   ]
  },
  {
   "cell_type": "raw",
   "id": "cfd0608b",
   "metadata": {},
   "source": [
    "10.How can you tell the difference between break and continue?\n",
    "\n",
    "A break statement is used to terminate the loop whenever a particular condition is satisfied.\n",
    "The break statement will end the innermost loop if it is contained within a nested loop that is the loop inside the other loop.\n",
    "It is used to end the loop that it is enclosed in, such as a do-while, while, switch, and for statement.\n",
    "\n",
    "Syntax: break\n",
    "\n",
    "The continue statement skips the remaining lines of code, for the current iteration of the loop. \n",
    "In this case, the loop does not end, it continues with the next iteration.\n",
    "\n",
    "Syntax: continue"
   ]
  },
  {
   "cell_type": "raw",
   "id": "58fe2646",
   "metadata": {},
   "source": [
    "11. In a for loop, what is the difference between range(10), range(0, 10), and range(0, 10, 1)?\n",
    "\n",
    "Ans: \n",
    " Above 3 functions give you the same output , just writing style is different.\n",
    "\n",
    "Syntax of range function is. range(start, stop, step)\n",
    "\n",
    "range(10) : in this function stop value is provided but start and step is not mentioned , python is taking default value for                 these. start=0 and step=1 so the function will be range(0, 10, 1)\n",
    "\n",
    "range(0, 10): in this function start and stop value is provided but step is not mentioned , python is taking default value for                 this step=1 so the function will be range(0, 10, 1)\n",
    "\n",
    "range(0, 10, 1) : all the values were provided."
   ]
  },
  {
   "cell_type": "code",
   "execution_count": 5,
   "id": "86a8298b",
   "metadata": {},
   "outputs": [
    {
     "name": "stdout",
     "output_type": "stream",
     "text": [
      "1\n",
      "2\n",
      "3\n",
      "4\n",
      "5\n",
      "6\n",
      "7\n",
      "8\n",
      "9\n",
      "10\n"
     ]
    }
   ],
   "source": [
    "'''12. Write a short program that prints the numbers 1 to 10 using a for loop. Then write an equivalent\n",
    "program that prints the numbers 1 to 10 using a while loop.'''\n",
    "\n",
    "for i in range(1,11):\n",
    "    print(i)"
   ]
  },
  {
   "cell_type": "code",
   "execution_count": 6,
   "id": "75a5f978",
   "metadata": {},
   "outputs": [
    {
     "name": "stdout",
     "output_type": "stream",
     "text": [
      "1\n",
      "2\n",
      "3\n",
      "4\n",
      "5\n",
      "6\n",
      "7\n",
      "8\n",
      "9\n",
      "10\n"
     ]
    }
   ],
   "source": [
    "i=1\n",
    "\n",
    "while i<=10:\n",
    "    print(i)\n",
    "    i=i+1"
   ]
  },
  {
   "cell_type": "raw",
   "id": "3490eed4",
   "metadata": {},
   "source": [
    "13. If you had a function named bacon() inside a module named spam, how would you call it after\n",
    "importing spam?\n",
    "\n",
    "This function can be called with spam.bacon()."
   ]
  }
 ],
 "metadata": {
  "kernelspec": {
   "display_name": "Python 3 (ipykernel)",
   "language": "python",
   "name": "python3"
  },
  "language_info": {
   "codemirror_mode": {
    "name": "ipython",
    "version": 3
   },
   "file_extension": ".py",
   "mimetype": "text/x-python",
   "name": "python",
   "nbconvert_exporter": "python",
   "pygments_lexer": "ipython3",
   "version": "3.9.13"
  }
 },
 "nbformat": 4,
 "nbformat_minor": 5
}
