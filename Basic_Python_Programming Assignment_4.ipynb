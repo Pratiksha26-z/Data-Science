{
 "cells": [
  {
   "cell_type": "markdown",
   "id": "b7818433",
   "metadata": {},
   "source": [
    "1. Write a Python Program to Find the Factorial of a Number?"
   ]
  },
  {
   "cell_type": "code",
   "execution_count": 7,
   "id": "3f6d338e",
   "metadata": {},
   "outputs": [
    {
     "name": "stdout",
     "output_type": "stream",
     "text": [
      "enter he number : 8\n"
     ]
    },
    {
     "data": {
      "text/plain": [
       "40320"
      ]
     },
     "execution_count": 7,
     "metadata": {},
     "output_type": "execute_result"
    }
   ],
   "source": [
    "def fact(n):\n",
    "    fact=1 \n",
    "    if n<0:\n",
    "        return 0\n",
    "    elif n==0:\n",
    "        return fact\n",
    "    else:\n",
    "        for i in range(1,n+1):\n",
    "            fact =fact*i\n",
    "        return fact\n",
    "   \n",
    "num= int(input(\"enter he number : \"))\n",
    "\n",
    "fact(num)"
   ]
  },
  {
   "cell_type": "markdown",
   "id": "77334503",
   "metadata": {},
   "source": [
    "2. Write a Python Program to Display the multiplication Table?"
   ]
  },
  {
   "cell_type": "code",
   "execution_count": 10,
   "id": "4a21bab6",
   "metadata": {},
   "outputs": [
    {
     "name": "stdout",
     "output_type": "stream",
     "text": [
      "Enter the number : 12\n",
      "12  X  1  =  12\n",
      "12  X  2  =  24\n",
      "12  X  3  =  36\n",
      "12  X  4  =  48\n",
      "12  X  5  =  60\n",
      "12  X  6  =  72\n",
      "12  X  7  =  84\n",
      "12  X  8  =  96\n",
      "12  X  9  =  108\n",
      "12  X  10  =  120\n"
     ]
    }
   ],
   "source": [
    "def table(n):\n",
    "    for i in range(1,11):\n",
    "        print(n,\" X \",i,\" = \",n*i)\n",
    "n=int(input(\"Enter the number : \"))\n",
    "\n",
    "table(n)"
   ]
  },
  {
   "cell_type": "markdown",
   "id": "8c0739aa",
   "metadata": {},
   "source": [
    "3. Write a Python Program to Print the Fibonacci sequence?"
   ]
  },
  {
   "cell_type": "code",
   "execution_count": 24,
   "id": "a1bd551e",
   "metadata": {},
   "outputs": [
    {
     "name": "stdout",
     "output_type": "stream",
     "text": [
      "enter the len of fib series10\n"
     ]
    },
    {
     "data": {
      "text/plain": [
       "[0, 1, 1, 2, 3, 5, 8, 13, 21, 34]"
      ]
     },
     "execution_count": 24,
     "metadata": {},
     "output_type": "execute_result"
    }
   ],
   "source": [
    "def fib(n):\n",
    "    l=[0,1]\n",
    "    if n<0:\n",
    "        return \"enter the positive value\"\n",
    "    if n==0:\n",
    "        return l[0:1]\n",
    "    for i in range(2,n):\n",
    "        l.append(l[i-1]+l[i-2])\n",
    "    return l\n",
    "        \n",
    "n=int(input(\"enter the len of fib series\")) \n",
    "fib(n)"
   ]
  },
  {
   "cell_type": "markdown",
   "id": "524efd9a",
   "metadata": {},
   "source": [
    "4. Write a Python Program to Check Armstrong Number?"
   ]
  },
  {
   "cell_type": "code",
   "execution_count": null,
   "id": "c160b039",
   "metadata": {},
   "outputs": [],
   "source": []
  },
  {
   "cell_type": "code",
   "execution_count": 4,
   "id": "117858ea",
   "metadata": {},
   "outputs": [
    {
     "name": "stdout",
     "output_type": "stream",
     "text": [
      "Enter the number : 1634\n",
      "(1634, ' is amstrong number')\n"
     ]
    }
   ],
   "source": [
    "def check_Amstrong(n):\n",
    "    l=len(str(n))\n",
    "    \n",
    "    ams=0\n",
    "    m=n\n",
    "    while m:\n",
    "        rem=m%10\n",
    "        ams +=rem**l\n",
    "        m=m//10\n",
    "        \n",
    "    if ams==n:\n",
    "        return n,\" is amstrong number\"\n",
    "    else:\n",
    "        return n,\" is not amstring number\"\n",
    "    \n",
    "n=int(input(\"Enter the number : \"))\n",
    "\n",
    "print(check_Amstrong(n))\n",
    "        "
   ]
  },
  {
   "cell_type": "markdown",
   "id": "8c847b6a",
   "metadata": {},
   "source": [
    "5. Write a Python Program to Find Armstrong Number in an Interval?"
   ]
  },
  {
   "cell_type": "code",
   "execution_count": 2,
   "id": "ac2f3f16",
   "metadata": {},
   "outputs": [
    {
     "name": "stdout",
     "output_type": "stream",
     "text": [
      "[153, 370, 371, 407, 1634]\n"
     ]
    }
   ],
   "source": [
    "def Amstrong(n):\n",
    "    l=len(str(n))\n",
    "    m=n\n",
    "    ams=0\n",
    "    \n",
    "    while m:\n",
    "        rem= m%10\n",
    "        ams +=rem**l\n",
    "        m=m//10\n",
    "    if ams==n:\n",
    "        return 1\n",
    "    else:\n",
    "        return 0\n",
    "        \n",
    "    \n",
    "\n",
    "#print(Amstrong(1634))\n",
    "l=[]\n",
    "for i in range(100,2000):\n",
    "    if Amstrong(i):\n",
    "        l.append(i)\n",
    "print(l)"
   ]
  },
  {
   "cell_type": "markdown",
   "id": "88499987",
   "metadata": {},
   "source": [
    "6. Write a Python Program to Find the Sum of Natural Numbers?"
   ]
  },
  {
   "cell_type": "code",
   "execution_count": 6,
   "id": "7e804b74",
   "metadata": {},
   "outputs": [
    {
     "name": "stdout",
     "output_type": "stream",
     "text": [
      "Enter the number to find sum of natural numbers : 10\n",
      "Sum of 10 first naturals numbers is :  55\n"
     ]
    }
   ],
   "source": [
    "m=int(input(\"Enter the number to find sum of natural numbers : \"))\n",
    "\n",
    "res=(m*(m+1))//2\n",
    "\n",
    "print(f\"Sum of {m} first naturals numbers is : \",res)"
   ]
  },
  {
   "cell_type": "code",
   "execution_count": null,
   "id": "6731e420",
   "metadata": {},
   "outputs": [],
   "source": []
  }
 ],
 "metadata": {
  "kernelspec": {
   "display_name": "Python 3 (ipykernel)",
   "language": "python",
   "name": "python3"
  },
  "language_info": {
   "codemirror_mode": {
    "name": "ipython",
    "version": 3
   },
   "file_extension": ".py",
   "mimetype": "text/x-python",
   "name": "python",
   "nbconvert_exporter": "python",
   "pygments_lexer": "ipython3",
   "version": "3.9.12"
  }
 },
 "nbformat": 4,
 "nbformat_minor": 5
}
