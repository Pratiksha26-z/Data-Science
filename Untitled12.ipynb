{
 "cells": [
  {
   "cell_type": "raw",
   "id": "5210e731",
   "metadata": {},
   "source": [
    "1. In the below elements which of them are values or an expression? eg:- values can be,\n",
    "    integer or string and expressions will be mathematical operators\"\n",
    "*    \n",
    "'hello'\n",
    "-87.8,\n",
    "-\n",
    "/\n",
    "+\n",
    "6\n",
    "\n",
    "Ans\n",
    "\n",
    "*       ---------------- Expression\n",
    "'hello' ---------------- Value\n",
    "-87.8   ---------------- Value\n",
    "-       ---------------- Expression\n",
    "/       ---------------- Expression\n",
    "+       ---------------- Exression\n",
    "6       ---------------- Value\n",
    "    "
   ]
  }
 ],
 "metadata": {
  "kernelspec": {
   "display_name": "Python 3 (ipykernel)",
   "language": "python",
   "name": "python3"
  },
  "language_info": {
   "codemirror_mode": {
    "name": "ipython",
    "version": 3
   },
   "file_extension": ".py",
   "mimetype": "text/x-python",
   "name": "python",
   "nbconvert_exporter": "python",
   "pygments_lexer": "ipython3",
   "version": "3.9.12"
  }
 },
 "nbformat": 4,
 "nbformat_minor": 5
}
